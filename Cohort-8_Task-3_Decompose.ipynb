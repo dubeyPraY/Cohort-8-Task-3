{
 "cells": [
  {
   "cell_type": "markdown",
   "id": "ad8cca64",
   "metadata": {},
   "source": [
    "# Cohort 8 Task-3 Decompose"
   ]
  },
  {
   "cell_type": "markdown",
   "id": "9f481e15",
   "metadata": {},
   "source": [
    "Que: Shown using the U and CX, obtaining CCX and CCCX gates. Also, created a method for constructing any multi-controlled X gate."
   ]
  },
  {
   "cell_type": "code",
   "execution_count": 1,
   "id": "78a121b2",
   "metadata": {},
   "outputs": [],
   "source": [
    "import numpy as np\n",
    "\n",
    "# Importing standard Qiskit libraries\n",
    "from qiskit import QuantumCircuit, transpile, Aer, IBMQ\n",
    "from qiskit_ibm_provider import IBMProvider\n",
    "from qiskit.visualization import array_to_latex\n",
    "from IPython.core.display import HTML"
   ]
  },
  {
   "cell_type": "code",
   "execution_count": 2,
   "id": "7f6fc1e3",
   "metadata": {},
   "outputs": [],
   "source": [
    "pi=np.pi"
   ]
  },
  {
   "cell_type": "markdown",
   "id": "318b9880",
   "metadata": {},
   "source": [
    "Drawing a simple CCX gate using qiskit built in function"
   ]
  },
  {
   "cell_type": "code",
   "execution_count": 3,
   "id": "cced183c",
   "metadata": {},
   "outputs": [
    {
     "data": {
      "text/html": [
       "<pre style=\"word-wrap: normal;white-space: pre;background: #fff0;line-height: 1.1;font-family: &quot;Courier New&quot;,Courier,monospace\">     ┌───┐\n",
       "q_0: ┤ X ├\n",
       "     └─┬─┘\n",
       "q_1: ──■──\n",
       "       │  \n",
       "q_2: ──■──\n",
       "          \n",
       "c: 3/═════\n",
       "          </pre>"
      ],
      "text/plain": [
       "     ┌───┐\n",
       "q_0: ┤ X ├\n",
       "     └─┬─┘\n",
       "q_1: ──■──\n",
       "       │  \n",
       "q_2: ──■──\n",
       "          \n",
       "c: 3/═════\n",
       "          "
      ]
     },
     "execution_count": 3,
     "metadata": {},
     "output_type": "execute_result"
    }
   ],
   "source": [
    "qc =QuantumCircuit(3,3)\n",
    "qc.ccx(2,1,0)\n",
    "qc.draw()"
   ]
  },
  {
   "cell_type": "markdown",
   "id": "c859205e",
   "metadata": {},
   "source": [
    "To decompose this gate to CNot and single qubit unitaries I use the methods given in this paper '<a href=\"https://arxiv.org/pdf/quant-ph/9503016.pdf\">Elementary gates for quantum computation</a>'"
   ]
  },
  {
   "cell_type": "markdown",
   "id": "66038973",
   "metadata": {},
   "source": [
    "<img src=\"Images/CCX.png\" width=\"600\" height=\"200\">"
   ]
  },
  {
   "cell_type": "markdown",
   "id": "d0a1cc14",
   "metadata": {},
   "source": [
    "Here V is such $V^2=X$ and U is an X gate"
   ]
  },
  {
   "cell_type": "markdown",
   "id": "83959389",
   "metadata": {},
   "source": [
    "Now we have to create all the above gates used in the circuit using CNOT and Single Qubit Unitary. That shall be given by:"
   ]
  },
  {
   "cell_type": "markdown",
   "id": "532db9ff",
   "metadata": {},
   "source": [
    "### SX Gate\n",
    "Sx gate is such that $SX^2=X$"
   ]
  },
  {
   "cell_type": "code",
   "execution_count": 4,
   "id": "f803ca8a",
   "metadata": {},
   "outputs": [],
   "source": [
    "#creating root x gate from u\n",
    "root_X_circuit=QuantumCircuit(1)\n",
    "root_X_circuit.u(pi/2,-pi/2,-pi/2,0)#equivalent to qiskit sx gate(that can be used direcctly)\n",
    "root_x=root_X_circuit.to_gate(label='sx')"
   ]
  },
  {
   "cell_type": "markdown",
   "id": "d2c8b628",
   "metadata": {},
   "source": [
    "### SXDG Gate\n",
    "Creating conjugate of SX gate"
   ]
  },
  {
   "cell_type": "code",
   "execution_count": 5,
   "id": "fd8594c6",
   "metadata": {},
   "outputs": [],
   "source": [
    "root_X_dagger_circuit=QuantumCircuit(1)\n",
    "root_X_dagger_circuit.u(-pi/2,-pi/2,-pi/2,0)#equivalent to qiskit sxdg gate(that can be used direcctly)\n",
    "root_x_dg=root_X_dagger_circuit.to_gate(label='sxdg')"
   ]
  },
  {
   "cell_type": "markdown",
   "id": "27d49684",
   "metadata": {},
   "source": [
    "### CSX Gate\n",
    "lemma 5.1 from <a href=\"https://arxiv.org/pdf/quant-ph/9503016.pdf\">Elementary gates for quantum computation</a>"
   ]
  },
  {
   "cell_type": "code",
   "execution_count": 6,
   "id": "565fc1c7",
   "metadata": {},
   "outputs": [],
   "source": [
    "root_X_control_circuit=QuantumCircuit(2)#equivalent to qiskit csx gate(that can be used direcctly)\n",
    "root_X_control_circuit.u(pi/2,0,pi,1)\n",
    "root_X_control_circuit.u(0,0,pi/4,0)\n",
    "root_X_control_circuit.cx(0,1)\n",
    "root_X_control_circuit.u(0,0,-pi/4,1)\n",
    "root_X_control_circuit.cx(0,1)\n",
    "root_X_control_circuit.u(pi/2,0,-3*pi/4,1)\n",
    "c_root_x=root_X_control_circuit.to_gate(label='csx')#creating csx gate from u and cx gates"
   ]
  },
  {
   "cell_type": "markdown",
   "id": "7b7f2928",
   "metadata": {},
   "source": [
    "### CSXDG Gate"
   ]
  },
  {
   "cell_type": "code",
   "execution_count": 7,
   "id": "4fce059e",
   "metadata": {},
   "outputs": [],
   "source": [
    "root_X_control_dagger_circuit=QuantumCircuit(2)#dagger of csx gate\n",
    "root_X_control_dagger_circuit.u(-pi/2,0,pi,1)\n",
    "root_X_control_dagger_circuit.u(0,0,pi/4,0)\n",
    "root_X_control_dagger_circuit.cx(0,1)\n",
    "root_X_control_dagger_circuit.u(0,0,-pi/4,1)\n",
    "root_X_control_dagger_circuit.cx(0,1)\n",
    "root_X_control_dagger_circuit.u(-pi/2,0,-3*pi/4,1)\n",
    "root_X_control_dagger_circuit.u(0,0,-pi/2,0)\n",
    "c_root_x_dg=root_X_control_dagger_circuit.to_gate(label='csxdg')#creating csxdg gate from u and cx gates"
   ]
  },
  {
   "cell_type": "markdown",
   "id": "f9e77191",
   "metadata": {},
   "source": [
    "# CCX"
   ]
  },
  {
   "cell_type": "markdown",
   "id": "5b62c39b",
   "metadata": {},
   "source": [
    "Making CCX gate function using aboves gates we get\n",
    "\n",
    "lemma 6.1 from <a href=\"https://arxiv.org/pdf/quant-ph/9503016.pdf\">Elementary gates for quantum computation</a>"
   ]
  },
  {
   "cell_type": "code",
   "execution_count": 8,
   "id": "9a3e429c",
   "metadata": {},
   "outputs": [],
   "source": [
    "#ccx gate\n",
    "def ccx(qc,qubits):\n",
    "    #Appends the ccx gate to the given quantum circuit qc\n",
    "    #Params: qc-QuntumCircuit\n",
    "    #Params: qc-QuntumCircuit\n",
    "    #Params: qubits-list : the qubits order in which the gates have to be applied\n",
    "    #Returns the Final Circuit\n",
    "    \n",
    "    qc.append(c_root_x,qubits[-2:])\n",
    "    qc.cx(qubits[-3],qubits[-2])\n",
    "    qc.append(c_root_x_dg,qubits[-2:])\n",
    "    qc.cx(qubits[-3],qubits[-2])\n",
    "    qc.append(c_root_x,qubits[:-2]+[qubits[-1]])\n",
    "    return ccx"
   ]
  },
  {
   "cell_type": "markdown",
   "id": "5d03195c",
   "metadata": {},
   "source": [
    "Drawing the circuit"
   ]
  },
  {
   "cell_type": "code",
   "execution_count": 9,
   "id": "227ad750",
   "metadata": {},
   "outputs": [
    {
     "data": {
      "text/html": [
       "<pre style=\"word-wrap: normal;white-space: pre;background: #fff0;line-height: 1.1;font-family: &quot;Courier New&quot;,Courier,monospace\">     ┌──────┐     ┌────────┐     ┌──────┐\n",
       "q_0: ┤1     ├─────┤1       ├─────┤1     ├\n",
       "     │  csx │┌───┐│  csxdg │┌───┐│      │\n",
       "q_1: ┤0     ├┤ X ├┤0       ├┤ X ├┤  csx ├\n",
       "     └──────┘└─┬─┘└────────┘└─┬─┘│      │\n",
       "q_2: ──────────■──────────────■──┤0     ├\n",
       "                                 └──────┘</pre>"
      ],
      "text/plain": [
       "     ┌──────┐     ┌────────┐     ┌──────┐\n",
       "q_0: ┤1     ├─────┤1       ├─────┤1     ├\n",
       "     │  csx │┌───┐│  csxdg │┌───┐│      │\n",
       "q_1: ┤0     ├┤ X ├┤0       ├┤ X ├┤  csx ├\n",
       "     └──────┘└─┬─┘└────────┘└─┬─┘│      │\n",
       "q_2: ──────────■──────────────■──┤0     ├\n",
       "                                 └──────┘"
      ]
     },
     "execution_count": 9,
     "metadata": {},
     "output_type": "execute_result"
    }
   ],
   "source": [
    "qc=QuantumCircuit(3)\n",
    "ccx(qc,[2,1,0])\n",
    "qc.draw()"
   ]
  },
  {
   "cell_type": "markdown",
   "id": "a375c05d",
   "metadata": {},
   "source": [
    "Getting the Unitary for the above circuit to show indeed we have CCX gate"
   ]
  },
  {
   "cell_type": "code",
   "execution_count": 10,
   "id": "b4b4588e",
   "metadata": {},
   "outputs": [
    {
     "data": {
      "text/latex": [
       "$$\n",
       "Output = \n",
       "\\begin{bmatrix}\n",
       "1 & 0 & 0 & 0 & 0 & 0 & 0 & 0  \\\\\n",
       " 0 & 1 & 0 & 0 & 0 & 0 & 0 & 0  \\\\\n",
       " 0 & 0 & 1 & 0 & 0 & 0 & 0 & 0  \\\\\n",
       " 0 & 0 & 0 & 1 & 0 & 0 & 0 & 0  \\\\\n",
       " 0 & 0 & 0 & 0 & 1 & 0 & 0 & 0  \\\\\n",
       " 0 & 0 & 0 & 0 & 0 & 1 & 0 & 0  \\\\\n",
       " 0 & 0 & 0 & 0 & 0 & 0 & 0 & 1  \\\\\n",
       " 0 & 0 & 0 & 0 & 0 & 0 & 1 & 0  \\\\\n",
       " \\end{bmatrix}\n",
       "$$"
      ],
      "text/plain": [
       "<IPython.core.display.Latex object>"
      ]
     },
     "execution_count": 10,
     "metadata": {},
     "output_type": "execute_result"
    }
   ],
   "source": [
    "backend = Aer.get_backend('unitary_simulator')\n",
    "job = backend.run(transpile(qc, backend))\n",
    "array_to_latex(job.result().get_unitary(qc, decimals=3), prefix='Output = ', max_size=24)"
   ]
  },
  {
   "cell_type": "markdown",
   "id": "53e223d1",
   "metadata": {},
   "source": [
    "Now similarly we wish to create a CCCX gate with 3 control qubits\n",
    "\n",
    "lemma 6.1 from <a href=\"https://arxiv.org/pdf/quant-ph/9503016.pdf\">Elementary gates for quantum computation</a>"
   ]
  },
  {
   "cell_type": "markdown",
   "id": "25c042ee",
   "metadata": {},
   "source": [
    "# CCCX Gate"
   ]
  },
  {
   "cell_type": "markdown",
   "id": "b376a7e3",
   "metadata": {},
   "source": [
    "#### The method used for CCCX gate shall use lemma 7 from <a href=\"https://arxiv.org/pdf/quant-ph/9503016.pdf\">Elementary gates for quantum computation</a>\n",
    "\n",
    "We created V such that $V^4=X$ \n",
    "\n",
    "The circuit for such V is given by "
   ]
  },
  {
   "cell_type": "markdown",
   "id": "ba78c482",
   "metadata": {},
   "source": [
    "<img src=\"Images/CCCX.png\" width=\"800\" height=\"300\">"
   ]
  },
  {
   "cell_type": "markdown",
   "id": "66561f7f",
   "metadata": {},
   "source": [
    "Creating the above used gates using CNots and U Gate"
   ]
  },
  {
   "cell_type": "markdown",
   "id": "5bcb8801",
   "metadata": {},
   "source": [
    "### CXRoot2 Gate\n",
    "Creating controlled V gate Such that $V^4=X$ Using lemma 5.1"
   ]
  },
  {
   "cell_type": "markdown",
   "id": "c9127f8a",
   "metadata": {},
   "source": [
    "<img src=\"Images/CW.png\" width=\"600\" height=\"200\">"
   ]
  },
  {
   "cell_type": "code",
   "execution_count": 11,
   "id": "e21bf0ba",
   "metadata": {},
   "outputs": [],
   "source": [
    "#creating gate c_root2_x such that (c_root2_x)^4=CX gate.\n",
    "root2_X_control_circuit=QuantumCircuit(2)\n",
    "root2_X_control_circuit.u(0,0,pi/2,1)\n",
    "root2_X_control_circuit.cx(0,1)\n",
    "root2_X_control_circuit.u(-pi/8,0,0,1)\n",
    "root2_X_control_circuit.cx(0,1)\n",
    "root2_X_control_circuit.u(pi/8,-pi/2,0,1)\n",
    "root2_X_control_circuit.u(0,0,pi/8,0)\n",
    "c_root2_x=root2_X_control_circuit.to_gate(label='csx2')#creating csx2 gate from u and cx gates"
   ]
  },
  {
   "cell_type": "markdown",
   "id": "f4a12dcd",
   "metadata": {},
   "source": [
    "### CXRoot2Dagger Gate\n",
    "Complex conjugate of the V gate above"
   ]
  },
  {
   "cell_type": "code",
   "execution_count": 12,
   "id": "d65f358c",
   "metadata": {},
   "outputs": [],
   "source": [
    "#Complex conjugate of c_root2_x gate\n",
    "root2_X_control_dagger_circuit=QuantumCircuit(2)#equivalent to qiskit csx gate(that can be used direcctly)\n",
    "root2_X_control_dagger_circuit.u(0,0,-pi/2,1)\n",
    "root2_X_control_dagger_circuit.cx(0,1)\n",
    "root2_X_control_dagger_circuit.u(-pi/8,0,0,1)\n",
    "root2_X_control_dagger_circuit.cx(0,1)\n",
    "root2_X_control_dagger_circuit.u(pi/8,pi/2,0,1)\n",
    "root2_X_control_dagger_circuit.u(0,0,15*pi/8,0)\n",
    "c_root2_x_dg=root2_X_control_dagger_circuit.to_gate(label='csx2_dg')#creating conjugate of csx2 gate from u and cx gates"
   ]
  },
  {
   "cell_type": "markdown",
   "id": "8f15083a",
   "metadata": {},
   "source": [
    "### CCCX Function"
   ]
  },
  {
   "cell_type": "markdown",
   "id": "8d18f6fd",
   "metadata": {},
   "source": [
    "Creating a CCCX function to create a cccx gate using CNot's and Gates prepared above using unitaries\n"
   ]
  },
  {
   "cell_type": "code",
   "execution_count": 13,
   "id": "82a148aa",
   "metadata": {},
   "outputs": [],
   "source": [
    "def cccx(qc,qubits):\n",
    "    #Appends the cccx gate to the given quantum circuit qc\n",
    "    #Params: qc-QuntumCircuit\n",
    "    #Params: qubits-list : the qubits order in which the gates have to be applied\n",
    "    #Returns the Final Circuit \n",
    "    \n",
    "    qc.append(c_root2_x,[qubits[-4]]+[qubits[-1]])\n",
    "    qc.cx(qubits[-4],qubits[-3])\n",
    "    qc.append(c_root2_x_dg,[qubits[-3]]+[qubits[-1]])\n",
    "    qc.cx(qubits[-4],qubits[-3])\n",
    "    qc.append(c_root2_x,[qubits[-3]]+[qubits[-1]])\n",
    "    qc.cx(qubits[-3],qubits[-2])\n",
    "    qc.append(c_root2_x_dg,[qubits[-2]]+[qubits[-1]])\n",
    "    qc.cx(qubits[-4],qubits[-2])\n",
    "    qc.append(c_root2_x,[qubits[-2]]+[qubits[-1]])\n",
    "    qc.cx(qubits[-3],qubits[-2])\n",
    "    qc.append(c_root2_x_dg,[qubits[-2]]+[qubits[-1]])\n",
    "    qc.cx(qubits[-4],qubits[-2])\n",
    "    qc.append(c_root2_x,[qubits[-2]]+[qubits[-1]])\n",
    "    return qc"
   ]
  },
  {
   "cell_type": "code",
   "execution_count": 14,
   "id": "fccf9b0a",
   "metadata": {
    "scrolled": true
   },
   "outputs": [
    {
     "data": {
      "text/html": [
       "<pre style=\"word-wrap: normal;white-space: pre;background: #fff0;line-height: 1.1;font-family: &quot;Courier New&quot;,Courier,monospace\">     ┌───────┐     ┌──────────┐     ┌───────┐     ┌──────────┐     ┌───────┐»\n",
       "q_0: ┤1      ├─────┤1         ├─────┤1      ├─────┤1         ├─────┤1      ├»\n",
       "     │       │     │          │     │       │┌───┐│  csx2_dg │┌───┐│  csx2 │»\n",
       "q_1: ┤       ├─────┤  csx2_dg ├─────┤  csx2 ├┤ X ├┤0         ├┤ X ├┤0      ├»\n",
       "     │  csx2 │┌───┐│          │┌───┐│       │└─┬─┘└──────────┘└─┬─┘└───────┘»\n",
       "q_2: ┤       ├┤ X ├┤0         ├┤ X ├┤0      ├──■────────────────┼───────────»\n",
       "     │       │└─┬─┘└──────────┘└─┬─┘└───────┘                   │           »\n",
       "q_3: ┤0      ├──■────────────────■──────────────────────────────■───────────»\n",
       "     └───────┘                                                              »\n",
       "«          ┌──────────┐     ┌───────┐\n",
       "«q_0: ─────┤1         ├─────┤1      ├\n",
       "«     ┌───┐│  csx2_dg │┌───┐│  csx2 │\n",
       "«q_1: ┤ X ├┤0         ├┤ X ├┤0      ├\n",
       "«     └─┬─┘└──────────┘└─┬─┘└───────┘\n",
       "«q_2: ──■────────────────┼───────────\n",
       "«                        │           \n",
       "«q_3: ───────────────────■───────────\n",
       "«                                    </pre>"
      ],
      "text/plain": [
       "     ┌───────┐     ┌──────────┐     ┌───────┐     ┌──────────┐     ┌───────┐»\n",
       "q_0: ┤1      ├─────┤1         ├─────┤1      ├─────┤1         ├─────┤1      ├»\n",
       "     │       │     │          │     │       │┌───┐│  csx2_dg │┌───┐│  csx2 │»\n",
       "q_1: ┤       ├─────┤  csx2_dg ├─────┤  csx2 ├┤ X ├┤0         ├┤ X ├┤0      ├»\n",
       "     │  csx2 │┌───┐│          │┌───┐│       │└─┬─┘└──────────┘└─┬─┘└───────┘»\n",
       "q_2: ┤       ├┤ X ├┤0         ├┤ X ├┤0      ├──■────────────────┼───────────»\n",
       "     │       │└─┬─┘└──────────┘└─┬─┘└───────┘                   │           »\n",
       "q_3: ┤0      ├──■────────────────■──────────────────────────────■───────────»\n",
       "     └───────┘                                                              »\n",
       "«          ┌──────────┐     ┌───────┐\n",
       "«q_0: ─────┤1         ├─────┤1      ├\n",
       "«     ┌───┐│  csx2_dg │┌───┐│  csx2 │\n",
       "«q_1: ┤ X ├┤0         ├┤ X ├┤0      ├\n",
       "«     └─┬─┘└──────────┘└─┬─┘└───────┘\n",
       "«q_2: ──■────────────────┼───────────\n",
       "«                        │           \n",
       "«q_3: ───────────────────■───────────\n",
       "«                                    "
      ]
     },
     "execution_count": 14,
     "metadata": {},
     "output_type": "execute_result"
    }
   ],
   "source": [
    "qc=QuantumCircuit(4)\n",
    "cccx(qc,[3,2,1,0])\n",
    "qc.draw()"
   ]
  },
  {
   "cell_type": "markdown",
   "id": "98b21db9",
   "metadata": {},
   "source": [
    "Printing the final unitary using unitary simulator"
   ]
  },
  {
   "cell_type": "code",
   "execution_count": 15,
   "id": "38395fda",
   "metadata": {},
   "outputs": [
    {
     "data": {
      "text/latex": [
       "$$\n",
       "Output = \n",
       "\\begin{bmatrix}\n",
       "1 & 0 & 0 & 0 & 0 & 0 & 0 & 0 & 0 & 0 & 0 & 0 & 0 & 0 & 0 & 0  \\\\\n",
       " 0 & 1 & 0 & 0 & 0 & 0 & 0 & 0 & 0 & 0 & 0 & 0 & 0 & 0 & 0 & 0  \\\\\n",
       " 0 & 0 & 1 & 0 & 0 & 0 & 0 & 0 & 0 & 0 & 0 & 0 & 0 & 0 & 0 & 0  \\\\\n",
       " 0 & 0 & 0 & 1 & 0 & 0 & 0 & 0 & 0 & 0 & 0 & 0 & 0 & 0 & 0 & 0  \\\\\n",
       " 0 & 0 & 0 & 0 & 1 & 0 & 0 & 0 & 0 & 0 & 0 & 0 & 0 & 0 & 0 & 0  \\\\\n",
       " 0 & 0 & 0 & 0 & 0 & 1 & 0 & 0 & 0 & 0 & 0 & 0 & 0 & 0 & 0 & 0  \\\\\n",
       " 0 & 0 & 0 & 0 & 0 & 0 & 1 & 0 & 0 & 0 & 0 & 0 & 0 & 0 & 0 & 0  \\\\\n",
       " 0 & 0 & 0 & 0 & 0 & 0 & 0 & 1 & 0 & 0 & 0 & 0 & 0 & 0 & 0 & 0  \\\\\n",
       " 0 & 0 & 0 & 0 & 0 & 0 & 0 & 0 & 1 & 0 & 0 & 0 & 0 & 0 & 0 & 0  \\\\\n",
       " 0 & 0 & 0 & 0 & 0 & 0 & 0 & 0 & 0 & 1 & 0 & 0 & 0 & 0 & 0 & 0  \\\\\n",
       " 0 & 0 & 0 & 0 & 0 & 0 & 0 & 0 & 0 & 0 & 1 & 0 & 0 & 0 & 0 & 0  \\\\\n",
       " 0 & 0 & 0 & 0 & 0 & 0 & 0 & 0 & 0 & 0 & 0 & 1 & 0 & 0 & 0 & 0  \\\\\n",
       " 0 & 0 & 0 & 0 & 0 & 0 & 0 & 0 & 0 & 0 & 0 & 0 & 1 & 0 & 0 & 0  \\\\\n",
       " 0 & 0 & 0 & 0 & 0 & 0 & 0 & 0 & 0 & 0 & 0 & 0 & 0 & 1 & 0 & 0  \\\\\n",
       " 0 & 0 & 0 & 0 & 0 & 0 & 0 & 0 & 0 & 0 & 0 & 0 & 0 & 0 & 0 & 1  \\\\\n",
       " 0 & 0 & 0 & 0 & 0 & 0 & 0 & 0 & 0 & 0 & 0 & 0 & 0 & 0 & 1 & 0  \\\\\n",
       " \\end{bmatrix}\n",
       "$$"
      ],
      "text/plain": [
       "<IPython.core.display.Latex object>"
      ]
     },
     "execution_count": 15,
     "metadata": {},
     "output_type": "execute_result"
    }
   ],
   "source": [
    "backend = Aer.get_backend('unitary_simulator')\n",
    "job = backend.run(transpile(qc, backend))\n",
    "array_to_latex(job.result().get_unitary(qc, decimals=3), prefix='Output = ', max_size=24)"
   ]
  },
  {
   "cell_type": "markdown",
   "id": "ae648a6e",
   "metadata": {},
   "source": [
    "Thus we successfully created a CCCX gate"
   ]
  },
  {
   "cell_type": "markdown",
   "id": "4a6acf38",
   "metadata": {},
   "source": [
    "Now we wish to create a fuction that creates a controlled not gate for any n number of control qubits using a unitary V and its controlled gates such that $V^2=X$ \n"
   ]
  },
  {
   "cell_type": "markdown",
   "id": "299343ab",
   "metadata": {},
   "source": [
    "# Bonus\n",
    "lemma 7.5 <a href=\"https://arxiv.org/pdf/quant-ph/9503016.pdf\">Elementary gates for quantum computation</a>\n",
    "\n",
    "Method to create a N controlled U gate"
   ]
  },
  {
   "cell_type": "markdown",
   "id": "9ccdad5c",
   "metadata": {},
   "source": [
    "<img src=\"Images/CNX.png\" width=\"600\" height=\"200\">"
   ]
  },
  {
   "cell_type": "markdown",
   "id": "db482999",
   "metadata": {},
   "source": [
    "The ancillia method for n-1 controled V gate comes from\n",
    "\n",
    "lemma 7.11 <a href=\"https://arxiv.org/pdf/quant-ph/9503016.pdf\">Elementary gates for quantum computation</a>\n"
   ]
  },
  {
   "cell_type": "markdown",
   "id": "9cf02c63",
   "metadata": {},
   "source": [
    "<img src=\"Images/C(N-1)W.png\" width=\"400\" height=\"100\">"
   ]
  },
  {
   "cell_type": "markdown",
   "id": "fb4afcdb",
   "metadata": {},
   "source": [
    "I shall really appreciate if someone could help me implement the method without ancillia qubit used to make cnsx gate using lemma 5.1 and lemma 7.5"
   ]
  },
  {
   "cell_type": "markdown",
   "id": "e14e265c",
   "metadata": {},
   "source": [
    "<img src=\"Images/CNW.png\" width=\"400\" height=\"100\">"
   ]
  },
  {
   "cell_type": "markdown",
   "id": "153527c0",
   "metadata": {},
   "source": [
    "### CNX Function"
   ]
  },
  {
   "cell_type": "code",
   "execution_count": 19,
   "id": "80a00618",
   "metadata": {},
   "outputs": [],
   "source": [
    "def cnx(qc,n,qubits):\n",
    "    #Appends the cnx gate to the given quantum circuit qc\n",
    "    #Params: qc-QuntumCircuit\n",
    "    #Params: n-Number of control qubits\n",
    "    #Params: qubits-list : the qubits order in which the gates have to be applied\n",
    "    #Returns the Final Circuit \n",
    "    \n",
    "    if n==1:\n",
    "        qc.cx(qubits[-2],qubits[-1])\n",
    "        return qc\n",
    "    elif n==2:\n",
    "        ccx(qc,qubits)\n",
    "    elif n==3:\n",
    "        cccx(qc,qubits)\n",
    "    else:\n",
    "        \n",
    "        num_qubits=qc.num_qubits\n",
    "        qc.reset(ar[0])\n",
    "        qc.append(c_root_x,qubits[-2:])\n",
    "        cnx(qc,n-1,qubits[1:-1])\n",
    "        qc.append(c_root_x_dg,qubits[-2:])\n",
    "        cnx(qc,n-1,qubits[1:-1])\n",
    "        cnx(qc,n-1,qubits[:-2][::-1])\n",
    "        qc.append(c_root_x,[qubits[0]]+[qubits[-1]])\n",
    "        cnx(qc,n-1,qubits[:-2][::-1])\n",
    "        \n",
    "    return qc"
   ]
  },
  {
   "cell_type": "markdown",
   "id": "f11f0492",
   "metadata": {},
   "source": [
    "This method for created CNX gates require an extra Ancilla Qubit that must be provided while invoking the function"
   ]
  },
  {
   "cell_type": "code",
   "execution_count": 20,
   "id": "b98881d7",
   "metadata": {},
   "outputs": [
    {
     "data": {
      "text/html": [
       "<pre style=\"word-wrap: normal;white-space: pre;background: #fff0;line-height: 1.1;font-family: &quot;Courier New&quot;,Courier,monospace\">      ┌──────┐                                                              »\n",
       "q9_0: ┤1     ├──────────────────────────────────────────────────────────────»\n",
       "      │  csx │┌───────┐     ┌──────────┐     ┌───────┐     ┌──────────┐     »\n",
       "q9_1: ┤0     ├┤1      ├─────┤1         ├─────┤1      ├─────┤1         ├─────»\n",
       "      └──────┘│       │     │          │     │       │┌───┐│  csx2_dg │┌───┐»\n",
       "q9_2: ────────┤       ├─────┤  csx2_dg ├─────┤  csx2 ├┤ X ├┤0         ├┤ X ├»\n",
       "              │  csx2 │┌───┐│          │┌───┐│       │└─┬─┘└──────────┘└─┬─┘»\n",
       "q9_3: ────────┤       ├┤ X ├┤0         ├┤ X ├┤0      ├──■────────────────┼──»\n",
       "              │       │└─┬─┘└──────────┘└─┬─┘└───────┘                   │  »\n",
       "q9_4: ────────┤0      ├──■────────────────■──────────────────────────────■──»\n",
       "              └───────┘                                                     »\n",
       "  an: ──|0>─────────────────────────────────────────────────────────────────»\n",
       "                                                                            »\n",
       "c1: 5/══════════════════════════════════════════════════════════════════════»\n",
       "                                                                            »\n",
       "«                                              ┌────────┐              »\n",
       "«q9_0: ────────────────────────────────────────┤1       ├──────────────»\n",
       "«      ┌───────┐     ┌──────────┐     ┌───────┐│  csxdg │┌───────┐     »\n",
       "«q9_1: ┤1      ├─────┤1         ├─────┤1      ├┤0       ├┤1      ├─────»\n",
       "«      │  csx2 │┌───┐│  csx2_dg │┌───┐│  csx2 │└────────┘│       │     »\n",
       "«q9_2: ┤0      ├┤ X ├┤0         ├┤ X ├┤0      ├──────────┤       ├─────»\n",
       "«      └───────┘└─┬─┘└──────────┘└─┬─┘└───────┘          │  csx2 │┌───┐»\n",
       "«q9_3: ───────────■────────────────┼─────────────────────┤       ├┤ X ├»\n",
       "«                                  │                     │       │└─┬─┘»\n",
       "«q9_4: ────────────────────────────■─────────────────────┤0      ├──■──»\n",
       "«                                                        └───────┘     »\n",
       "«  an: ────────────────────────────────────────────────────────────────»\n",
       "«                                                                      »\n",
       "«c1: 5/════════════════════════════════════════════════════════════════»\n",
       "«                                                                      »\n",
       "«                                                                    »\n",
       "«q9_0: ──────────────────────────────────────────────────────────────»\n",
       "«      ┌──────────┐     ┌───────┐     ┌──────────┐     ┌───────┐     »\n",
       "«q9_1: ┤1         ├─────┤1      ├─────┤1         ├─────┤1      ├─────»\n",
       "«      │          │     │       │┌───┐│  csx2_dg │┌───┐│  csx2 │┌───┐»\n",
       "«q9_2: ┤  csx2_dg ├─────┤  csx2 ├┤ X ├┤0         ├┤ X ├┤0      ├┤ X ├»\n",
       "«      │          │┌───┐│       │└─┬─┘└──────────┘└─┬─┘└───────┘└─┬─┘»\n",
       "«q9_3: ┤0         ├┤ X ├┤0      ├──■────────────────┼─────────────■──»\n",
       "«      └──────────┘└─┬─┘└───────┘                   │                »\n",
       "«q9_4: ──────────────■──────────────────────────────■────────────────»\n",
       "«                                                                    »\n",
       "«  an: ──────────────────────────────────────────────────────────────»\n",
       "«                                                                    »\n",
       "«c1: 5/══════════════════════════════════════════════════════════════»\n",
       "«                                                                    »\n",
       "«                                                                             »\n",
       "«q9_0: ───────────────────────────────────────────────────────────────────────»\n",
       "«      ┌──────────┐     ┌───────┐                                             »\n",
       "«q9_1: ┤1         ├─────┤1      ├─────────────────────────────────────────────»\n",
       "«      │  csx2_dg │┌───┐│  csx2 │┌───────┐                                    »\n",
       "«q9_2: ┤0         ├┤ X ├┤0      ├┤0      ├──■────────────────■────────────────»\n",
       "«      └──────────┘└─┬─┘└───────┘│       │┌─┴─┐┌──────────┐┌─┴─┐┌───────┐     »\n",
       "«q9_3: ──────────────┼───────────┤       ├┤ X ├┤0         ├┤ X ├┤0      ├──■──»\n",
       "«                    │           │  csx2 │└───┘│          │└───┘│       │┌─┴─┐»\n",
       "«q9_4: ──────────────■───────────┤       ├─────┤  csx2_dg ├─────┤  csx2 ├┤ X ├»\n",
       "«                                │       │     │          │     │       │└───┘»\n",
       "«  an: ──────────────────────────┤1      ├─────┤1         ├─────┤1      ├─────»\n",
       "«                                └───────┘     └──────────┘     └───────┘     »\n",
       "«c1: 5/═══════════════════════════════════════════════════════════════════════»\n",
       "«                                                                             »\n",
       "«                                                               ┌──────┐»\n",
       "«q9_0: ─────────────────────────────────────────────────────────┤1     ├»\n",
       "«                                                               │      │»\n",
       "«q9_1: ─────────────────────────────────────────────────────────┤      ├»\n",
       "«                                                               │      │»\n",
       "«q9_2: ──────────────■──────────────────────────────■───────────┤      ├»\n",
       "«                    │                              │           │  csx │»\n",
       "«q9_3: ──────────────┼─────────────■────────────────┼───────────┤      ├»\n",
       "«      ┌──────────┐┌─┴─┐┌───────┐┌─┴─┐┌──────────┐┌─┴─┐┌───────┐│      │»\n",
       "«q9_4: ┤0         ├┤ X ├┤0      ├┤ X ├┤0         ├┤ X ├┤0      ├┤      ├»\n",
       "«      │  csx2_dg │└───┘│  csx2 │└───┘│  csx2_dg │└───┘│  csx2 ││      │»\n",
       "«  an: ┤1         ├─────┤1      ├─────┤1         ├─────┤1      ├┤0     ├»\n",
       "«      └──────────┘     └───────┘     └──────────┘     └───────┘└──────┘»\n",
       "«c1: 5/═════════════════════════════════════════════════════════════════»\n",
       "«                                                                       »\n",
       "«                                                                             »\n",
       "«q9_0: ───────────────────────────────────────────────────────────────────────»\n",
       "«                                                                             »\n",
       "«q9_1: ───────────────────────────────────────────────────────────────────────»\n",
       "«      ┌───────┐                                                              »\n",
       "«q9_2: ┤0      ├──■────────────────■──────────────────────────────■───────────»\n",
       "«      │       │┌─┴─┐┌──────────┐┌─┴─┐┌───────┐                   │           »\n",
       "«q9_3: ┤       ├┤ X ├┤0         ├┤ X ├┤0      ├──■────────────────┼───────────»\n",
       "«      │  csx2 │└───┘│          │└───┘│       │┌─┴─┐┌──────────┐┌─┴─┐┌───────┐»\n",
       "«q9_4: ┤       ├─────┤  csx2_dg ├─────┤  csx2 ├┤ X ├┤0         ├┤ X ├┤0      ├»\n",
       "«      │       │     │          │     │       │└───┘│  csx2_dg │└───┘│  csx2 │»\n",
       "«  an: ┤1      ├─────┤1         ├─────┤1      ├─────┤1         ├─────┤1      ├»\n",
       "«      └───────┘     └──────────┘     └───────┘     └──────────┘     └───────┘»\n",
       "«c1: 5/═══════════════════════════════════════════════════════════════════════»\n",
       "«                                                                             »\n",
       "«                                     \n",
       "«q9_0: ───────────────────────────────\n",
       "«                                     \n",
       "«q9_1: ───────────────────────────────\n",
       "«                                     \n",
       "«q9_2: ───────────────────■───────────\n",
       "«                         │           \n",
       "«q9_3: ──■────────────────┼───────────\n",
       "«      ┌─┴─┐┌──────────┐┌─┴─┐┌───────┐\n",
       "«q9_4: ┤ X ├┤0         ├┤ X ├┤0      ├\n",
       "«      └───┘│  csx2_dg │└───┘│  csx2 │\n",
       "«  an: ─────┤1         ├─────┤1      ├\n",
       "«           └──────────┘     └───────┘\n",
       "«c1: 5/═══════════════════════════════\n",
       "«                                     </pre>"
      ],
      "text/plain": [
       "      ┌──────┐                                                              »\n",
       "q9_0: ┤1     ├──────────────────────────────────────────────────────────────»\n",
       "      │  csx │┌───────┐     ┌──────────┐     ┌───────┐     ┌──────────┐     »\n",
       "q9_1: ┤0     ├┤1      ├─────┤1         ├─────┤1      ├─────┤1         ├─────»\n",
       "      └──────┘│       │     │          │     │       │┌───┐│  csx2_dg │┌───┐»\n",
       "q9_2: ────────┤       ├─────┤  csx2_dg ├─────┤  csx2 ├┤ X ├┤0         ├┤ X ├»\n",
       "              │  csx2 │┌───┐│          │┌───┐│       │└─┬─┘└──────────┘└─┬─┘»\n",
       "q9_3: ────────┤       ├┤ X ├┤0         ├┤ X ├┤0      ├──■────────────────┼──»\n",
       "              │       │└─┬─┘└──────────┘└─┬─┘└───────┘                   │  »\n",
       "q9_4: ────────┤0      ├──■────────────────■──────────────────────────────■──»\n",
       "              └───────┘                                                     »\n",
       "  an: ──|0>─────────────────────────────────────────────────────────────────»\n",
       "                                                                            »\n",
       "c1: 5/══════════════════════════════════════════════════════════════════════»\n",
       "                                                                            »\n",
       "«                                              ┌────────┐              »\n",
       "«q9_0: ────────────────────────────────────────┤1       ├──────────────»\n",
       "«      ┌───────┐     ┌──────────┐     ┌───────┐│  csxdg │┌───────┐     »\n",
       "«q9_1: ┤1      ├─────┤1         ├─────┤1      ├┤0       ├┤1      ├─────»\n",
       "«      │  csx2 │┌───┐│  csx2_dg │┌───┐│  csx2 │└────────┘│       │     »\n",
       "«q9_2: ┤0      ├┤ X ├┤0         ├┤ X ├┤0      ├──────────┤       ├─────»\n",
       "«      └───────┘└─┬─┘└──────────┘└─┬─┘└───────┘          │  csx2 │┌───┐»\n",
       "«q9_3: ───────────■────────────────┼─────────────────────┤       ├┤ X ├»\n",
       "«                                  │                     │       │└─┬─┘»\n",
       "«q9_4: ────────────────────────────■─────────────────────┤0      ├──■──»\n",
       "«                                                        └───────┘     »\n",
       "«  an: ────────────────────────────────────────────────────────────────»\n",
       "«                                                                      »\n",
       "«c1: 5/════════════════════════════════════════════════════════════════»\n",
       "«                                                                      »\n",
       "«                                                                    »\n",
       "«q9_0: ──────────────────────────────────────────────────────────────»\n",
       "«      ┌──────────┐     ┌───────┐     ┌──────────┐     ┌───────┐     »\n",
       "«q9_1: ┤1         ├─────┤1      ├─────┤1         ├─────┤1      ├─────»\n",
       "«      │          │     │       │┌───┐│  csx2_dg │┌───┐│  csx2 │┌───┐»\n",
       "«q9_2: ┤  csx2_dg ├─────┤  csx2 ├┤ X ├┤0         ├┤ X ├┤0      ├┤ X ├»\n",
       "«      │          │┌───┐│       │└─┬─┘└──────────┘└─┬─┘└───────┘└─┬─┘»\n",
       "«q9_3: ┤0         ├┤ X ├┤0      ├──■────────────────┼─────────────■──»\n",
       "«      └──────────┘└─┬─┘└───────┘                   │                »\n",
       "«q9_4: ──────────────■──────────────────────────────■────────────────»\n",
       "«                                                                    »\n",
       "«  an: ──────────────────────────────────────────────────────────────»\n",
       "«                                                                    »\n",
       "«c1: 5/══════════════════════════════════════════════════════════════»\n",
       "«                                                                    »\n",
       "«                                                                             »\n",
       "«q9_0: ───────────────────────────────────────────────────────────────────────»\n",
       "«      ┌──────────┐     ┌───────┐                                             »\n",
       "«q9_1: ┤1         ├─────┤1      ├─────────────────────────────────────────────»\n",
       "«      │  csx2_dg │┌───┐│  csx2 │┌───────┐                                    »\n",
       "«q9_2: ┤0         ├┤ X ├┤0      ├┤0      ├──■────────────────■────────────────»\n",
       "«      └──────────┘└─┬─┘└───────┘│       │┌─┴─┐┌──────────┐┌─┴─┐┌───────┐     »\n",
       "«q9_3: ──────────────┼───────────┤       ├┤ X ├┤0         ├┤ X ├┤0      ├──■──»\n",
       "«                    │           │  csx2 │└───┘│          │└───┘│       │┌─┴─┐»\n",
       "«q9_4: ──────────────■───────────┤       ├─────┤  csx2_dg ├─────┤  csx2 ├┤ X ├»\n",
       "«                                │       │     │          │     │       │└───┘»\n",
       "«  an: ──────────────────────────┤1      ├─────┤1         ├─────┤1      ├─────»\n",
       "«                                └───────┘     └──────────┘     └───────┘     »\n",
       "«c1: 5/═══════════════════════════════════════════════════════════════════════»\n",
       "«                                                                             »\n",
       "«                                                               ┌──────┐»\n",
       "«q9_0: ─────────────────────────────────────────────────────────┤1     ├»\n",
       "«                                                               │      │»\n",
       "«q9_1: ─────────────────────────────────────────────────────────┤      ├»\n",
       "«                                                               │      │»\n",
       "«q9_2: ──────────────■──────────────────────────────■───────────┤      ├»\n",
       "«                    │                              │           │  csx │»\n",
       "«q9_3: ──────────────┼─────────────■────────────────┼───────────┤      ├»\n",
       "«      ┌──────────┐┌─┴─┐┌───────┐┌─┴─┐┌──────────┐┌─┴─┐┌───────┐│      │»\n",
       "«q9_4: ┤0         ├┤ X ├┤0      ├┤ X ├┤0         ├┤ X ├┤0      ├┤      ├»\n",
       "«      │  csx2_dg │└───┘│  csx2 │└───┘│  csx2_dg │└───┘│  csx2 ││      │»\n",
       "«  an: ┤1         ├─────┤1      ├─────┤1         ├─────┤1      ├┤0     ├»\n",
       "«      └──────────┘     └───────┘     └──────────┘     └───────┘└──────┘»\n",
       "«c1: 5/═════════════════════════════════════════════════════════════════»\n",
       "«                                                                       »\n",
       "«                                                                             »\n",
       "«q9_0: ───────────────────────────────────────────────────────────────────────»\n",
       "«                                                                             »\n",
       "«q9_1: ───────────────────────────────────────────────────────────────────────»\n",
       "«      ┌───────┐                                                              »\n",
       "«q9_2: ┤0      ├──■────────────────■──────────────────────────────■───────────»\n",
       "«      │       │┌─┴─┐┌──────────┐┌─┴─┐┌───────┐                   │           »\n",
       "«q9_3: ┤       ├┤ X ├┤0         ├┤ X ├┤0      ├──■────────────────┼───────────»\n",
       "«      │  csx2 │└───┘│          │└───┘│       │┌─┴─┐┌──────────┐┌─┴─┐┌───────┐»\n",
       "«q9_4: ┤       ├─────┤  csx2_dg ├─────┤  csx2 ├┤ X ├┤0         ├┤ X ├┤0      ├»\n",
       "«      │       │     │          │     │       │└───┘│  csx2_dg │└───┘│  csx2 │»\n",
       "«  an: ┤1      ├─────┤1         ├─────┤1      ├─────┤1         ├─────┤1      ├»\n",
       "«      └───────┘     └──────────┘     └───────┘     └──────────┘     └───────┘»\n",
       "«c1: 5/═══════════════════════════════════════════════════════════════════════»\n",
       "«                                                                             »\n",
       "«                                     \n",
       "«q9_0: ───────────────────────────────\n",
       "«                                     \n",
       "«q9_1: ───────────────────────────────\n",
       "«                                     \n",
       "«q9_2: ───────────────────■───────────\n",
       "«                         │           \n",
       "«q9_3: ──■────────────────┼───────────\n",
       "«      ┌─┴─┐┌──────────┐┌─┴─┐┌───────┐\n",
       "«q9_4: ┤ X ├┤0         ├┤ X ├┤0      ├\n",
       "«      └───┘│  csx2_dg │└───┘│  csx2 │\n",
       "«  an: ─────┤1         ├─────┤1      ├\n",
       "«           └──────────┘     └───────┘\n",
       "«c1: 5/═══════════════════════════════\n",
       "«                                     "
      ]
     },
     "execution_count": 20,
     "metadata": {},
     "output_type": "execute_result"
    }
   ],
   "source": [
    "from qiskit.circuit import QuantumRegister,ClassicalRegister,AncillaRegister\n",
    "qr=QuantumRegister(5)\n",
    "cr=ClassicalRegister(5)\n",
    "ar=AncillaRegister(1,'an')\n",
    "qc=QuantumCircuit(qr,cr,ar)\n",
    "cnx(qc,4,[5,4,3,2,1,0])\n",
    "qc.draw()"
   ]
  },
  {
   "cell_type": "markdown",
   "id": "25bce3d8",
   "metadata": {},
   "source": [
    "Printing the matrix for the above Circuit"
   ]
  },
  {
   "cell_type": "code",
   "execution_count": 18,
   "id": "b138948b",
   "metadata": {},
   "outputs": [
    {
     "data": {
      "text/latex": [
       "$$\n",
       "\n",
       "\\begin{bmatrix}\n",
       "1 & 0 & 0 & 0 & 0 & 0 & 0 & 0 & 0 & 0 & 0 & 0 & 0 & 0 & 0 & 0 & 0 & 0 & 0 & 0 & 0 & 0 & 0 & 0 & 0 & 0 & 0 & 0 & 0 & 0 & 0 & 0 & 0 & 0 & 0 & 0 & 0 & 0 & 0 & 0 & 0 & 0 & 0 & 0 & 0 & 0 & 0 & 0 & 0 & 0 & 0 & 0 & 0 & 0 & 0 & 0 & 0 & 0 & 0 & 0 & 0 & 0 & 0 & 0  \\\\\n",
       " 0 & 1 & 0 & 0 & 0 & 0 & 0 & 0 & 0 & 0 & 0 & 0 & 0 & 0 & 0 & 0 & 0 & 0 & 0 & 0 & 0 & 0 & 0 & 0 & 0 & 0 & 0 & 0 & 0 & 0 & 0 & 0 & 0 & 0 & 0 & 0 & 0 & 0 & 0 & 0 & 0 & 0 & 0 & 0 & 0 & 0 & 0 & 0 & 0 & 0 & 0 & 0 & 0 & 0 & 0 & 0 & 0 & 0 & 0 & 0 & 0 & 0 & 0 & 0  \\\\\n",
       " 0 & 0 & 1 & 0 & 0 & 0 & 0 & 0 & 0 & 0 & 0 & 0 & 0 & 0 & 0 & 0 & 0 & 0 & 0 & 0 & 0 & 0 & 0 & 0 & 0 & 0 & 0 & 0 & 0 & 0 & 0 & 0 & 0 & 0 & 0 & 0 & 0 & 0 & 0 & 0 & 0 & 0 & 0 & 0 & 0 & 0 & 0 & 0 & 0 & 0 & 0 & 0 & 0 & 0 & 0 & 0 & 0 & 0 & 0 & 0 & 0 & 0 & 0 & 0  \\\\\n",
       " 0 & 0 & 0 & 1 & 0 & 0 & 0 & 0 & 0 & 0 & 0 & 0 & 0 & 0 & 0 & 0 & 0 & 0 & 0 & 0 & 0 & 0 & 0 & 0 & 0 & 0 & 0 & 0 & 0 & 0 & 0 & 0 & 0 & 0 & 0 & 0 & 0 & 0 & 0 & 0 & 0 & 0 & 0 & 0 & 0 & 0 & 0 & 0 & 0 & 0 & 0 & 0 & 0 & 0 & 0 & 0 & 0 & 0 & 0 & 0 & 0 & 0 & 0 & 0  \\\\\n",
       " 0 & 0 & 0 & 0 & 1 & 0 & 0 & 0 & 0 & 0 & 0 & 0 & 0 & 0 & 0 & 0 & 0 & 0 & 0 & 0 & 0 & 0 & 0 & 0 & 0 & 0 & 0 & 0 & 0 & 0 & 0 & 0 & 0 & 0 & 0 & 0 & 0 & 0 & 0 & 0 & 0 & 0 & 0 & 0 & 0 & 0 & 0 & 0 & 0 & 0 & 0 & 0 & 0 & 0 & 0 & 0 & 0 & 0 & 0 & 0 & 0 & 0 & 0 & 0  \\\\\n",
       " 0 & 0 & 0 & 0 & 0 & 1 & 0 & 0 & 0 & 0 & 0 & 0 & 0 & 0 & 0 & 0 & 0 & 0 & 0 & 0 & 0 & 0 & 0 & 0 & 0 & 0 & 0 & 0 & 0 & 0 & 0 & 0 & 0 & 0 & 0 & 0 & 0 & 0 & 0 & 0 & 0 & 0 & 0 & 0 & 0 & 0 & 0 & 0 & 0 & 0 & 0 & 0 & 0 & 0 & 0 & 0 & 0 & 0 & 0 & 0 & 0 & 0 & 0 & 0  \\\\\n",
       " 0 & 0 & 0 & 0 & 0 & 0 & 1 & 0 & 0 & 0 & 0 & 0 & 0 & 0 & 0 & 0 & 0 & 0 & 0 & 0 & 0 & 0 & 0 & 0 & 0 & 0 & 0 & 0 & 0 & 0 & 0 & 0 & 0 & 0 & 0 & 0 & 0 & 0 & 0 & 0 & 0 & 0 & 0 & 0 & 0 & 0 & 0 & 0 & 0 & 0 & 0 & 0 & 0 & 0 & 0 & 0 & 0 & 0 & 0 & 0 & 0 & 0 & 0 & 0  \\\\\n",
       " 0 & 0 & 0 & 0 & 0 & 0 & 0 & 1 & 0 & 0 & 0 & 0 & 0 & 0 & 0 & 0 & 0 & 0 & 0 & 0 & 0 & 0 & 0 & 0 & 0 & 0 & 0 & 0 & 0 & 0 & 0 & 0 & 0 & 0 & 0 & 0 & 0 & 0 & 0 & 0 & 0 & 0 & 0 & 0 & 0 & 0 & 0 & 0 & 0 & 0 & 0 & 0 & 0 & 0 & 0 & 0 & 0 & 0 & 0 & 0 & 0 & 0 & 0 & 0  \\\\\n",
       " 0 & 0 & 0 & 0 & 0 & 0 & 0 & 0 & 1 & 0 & 0 & 0 & 0 & 0 & 0 & 0 & 0 & 0 & 0 & 0 & 0 & 0 & 0 & 0 & 0 & 0 & 0 & 0 & 0 & 0 & 0 & 0 & 0 & 0 & 0 & 0 & 0 & 0 & 0 & 0 & 0 & 0 & 0 & 0 & 0 & 0 & 0 & 0 & 0 & 0 & 0 & 0 & 0 & 0 & 0 & 0 & 0 & 0 & 0 & 0 & 0 & 0 & 0 & 0  \\\\\n",
       " 0 & 0 & 0 & 0 & 0 & 0 & 0 & 0 & 0 & 1 & 0 & 0 & 0 & 0 & 0 & 0 & 0 & 0 & 0 & 0 & 0 & 0 & 0 & 0 & 0 & 0 & 0 & 0 & 0 & 0 & 0 & 0 & 0 & 0 & 0 & 0 & 0 & 0 & 0 & 0 & 0 & 0 & 0 & 0 & 0 & 0 & 0 & 0 & 0 & 0 & 0 & 0 & 0 & 0 & 0 & 0 & 0 & 0 & 0 & 0 & 0 & 0 & 0 & 0  \\\\\n",
       " 0 & 0 & 0 & 0 & 0 & 0 & 0 & 0 & 0 & 0 & 1 & 0 & 0 & 0 & 0 & 0 & 0 & 0 & 0 & 0 & 0 & 0 & 0 & 0 & 0 & 0 & 0 & 0 & 0 & 0 & 0 & 0 & 0 & 0 & 0 & 0 & 0 & 0 & 0 & 0 & 0 & 0 & 0 & 0 & 0 & 0 & 0 & 0 & 0 & 0 & 0 & 0 & 0 & 0 & 0 & 0 & 0 & 0 & 0 & 0 & 0 & 0 & 0 & 0  \\\\\n",
       " 0 & 0 & 0 & 0 & 0 & 0 & 0 & 0 & 0 & 0 & 0 & 1 & 0 & 0 & 0 & 0 & 0 & 0 & 0 & 0 & 0 & 0 & 0 & 0 & 0 & 0 & 0 & 0 & 0 & 0 & 0 & 0 & 0 & 0 & 0 & 0 & 0 & 0 & 0 & 0 & 0 & 0 & 0 & 0 & 0 & 0 & 0 & 0 & 0 & 0 & 0 & 0 & 0 & 0 & 0 & 0 & 0 & 0 & 0 & 0 & 0 & 0 & 0 & 0  \\\\\n",
       " 0 & 0 & 0 & 0 & 0 & 0 & 0 & 0 & 0 & 0 & 0 & 0 & 1 & 0 & 0 & 0 & 0 & 0 & 0 & 0 & 0 & 0 & 0 & 0 & 0 & 0 & 0 & 0 & 0 & 0 & 0 & 0 & 0 & 0 & 0 & 0 & 0 & 0 & 0 & 0 & 0 & 0 & 0 & 0 & 0 & 0 & 0 & 0 & 0 & 0 & 0 & 0 & 0 & 0 & 0 & 0 & 0 & 0 & 0 & 0 & 0 & 0 & 0 & 0  \\\\\n",
       " 0 & 0 & 0 & 0 & 0 & 0 & 0 & 0 & 0 & 0 & 0 & 0 & 0 & 1 & 0 & 0 & 0 & 0 & 0 & 0 & 0 & 0 & 0 & 0 & 0 & 0 & 0 & 0 & 0 & 0 & 0 & 0 & 0 & 0 & 0 & 0 & 0 & 0 & 0 & 0 & 0 & 0 & 0 & 0 & 0 & 0 & 0 & 0 & 0 & 0 & 0 & 0 & 0 & 0 & 0 & 0 & 0 & 0 & 0 & 0 & 0 & 0 & 0 & 0  \\\\\n",
       " 0 & 0 & 0 & 0 & 0 & 0 & 0 & 0 & 0 & 0 & 0 & 0 & 0 & 0 & 1 & 0 & 0 & 0 & 0 & 0 & 0 & 0 & 0 & 0 & 0 & 0 & 0 & 0 & 0 & 0 & 0 & 0 & 0 & 0 & 0 & 0 & 0 & 0 & 0 & 0 & 0 & 0 & 0 & 0 & 0 & 0 & 0 & 0 & 0 & 0 & 0 & 0 & 0 & 0 & 0 & 0 & 0 & 0 & 0 & 0 & 0 & 0 & 0 & 0  \\\\\n",
       " 0 & 0 & 0 & 0 & 0 & 0 & 0 & 0 & 0 & 0 & 0 & 0 & 0 & 0 & 0 & 1 & 0 & 0 & 0 & 0 & 0 & 0 & 0 & 0 & 0 & 0 & 0 & 0 & 0 & 0 & 0 & 0 & 0 & 0 & 0 & 0 & 0 & 0 & 0 & 0 & 0 & 0 & 0 & 0 & 0 & 0 & 0 & 0 & 0 & 0 & 0 & 0 & 0 & 0 & 0 & 0 & 0 & 0 & 0 & 0 & 0 & 0 & 0 & 0  \\\\\n",
       " 0 & 0 & 0 & 0 & 0 & 0 & 0 & 0 & 0 & 0 & 0 & 0 & 0 & 0 & 0 & 0 & 1 & 0 & 0 & 0 & 0 & 0 & 0 & 0 & 0 & 0 & 0 & 0 & 0 & 0 & 0 & 0 & 0 & 0 & 0 & 0 & 0 & 0 & 0 & 0 & 0 & 0 & 0 & 0 & 0 & 0 & 0 & 0 & 0 & 0 & 0 & 0 & 0 & 0 & 0 & 0 & 0 & 0 & 0 & 0 & 0 & 0 & 0 & 0  \\\\\n",
       " 0 & 0 & 0 & 0 & 0 & 0 & 0 & 0 & 0 & 0 & 0 & 0 & 0 & 0 & 0 & 0 & 0 & 1 & 0 & 0 & 0 & 0 & 0 & 0 & 0 & 0 & 0 & 0 & 0 & 0 & 0 & 0 & 0 & 0 & 0 & 0 & 0 & 0 & 0 & 0 & 0 & 0 & 0 & 0 & 0 & 0 & 0 & 0 & 0 & 0 & 0 & 0 & 0 & 0 & 0 & 0 & 0 & 0 & 0 & 0 & 0 & 0 & 0 & 0  \\\\\n",
       " 0 & 0 & 0 & 0 & 0 & 0 & 0 & 0 & 0 & 0 & 0 & 0 & 0 & 0 & 0 & 0 & 0 & 0 & 1 & 0 & 0 & 0 & 0 & 0 & 0 & 0 & 0 & 0 & 0 & 0 & 0 & 0 & 0 & 0 & 0 & 0 & 0 & 0 & 0 & 0 & 0 & 0 & 0 & 0 & 0 & 0 & 0 & 0 & 0 & 0 & 0 & 0 & 0 & 0 & 0 & 0 & 0 & 0 & 0 & 0 & 0 & 0 & 0 & 0  \\\\\n",
       " 0 & 0 & 0 & 0 & 0 & 0 & 0 & 0 & 0 & 0 & 0 & 0 & 0 & 0 & 0 & 0 & 0 & 0 & 0 & 1 & 0 & 0 & 0 & 0 & 0 & 0 & 0 & 0 & 0 & 0 & 0 & 0 & 0 & 0 & 0 & 0 & 0 & 0 & 0 & 0 & 0 & 0 & 0 & 0 & 0 & 0 & 0 & 0 & 0 & 0 & 0 & 0 & 0 & 0 & 0 & 0 & 0 & 0 & 0 & 0 & 0 & 0 & 0 & 0  \\\\\n",
       " 0 & 0 & 0 & 0 & 0 & 0 & 0 & 0 & 0 & 0 & 0 & 0 & 0 & 0 & 0 & 0 & 0 & 0 & 0 & 0 & 1 & 0 & 0 & 0 & 0 & 0 & 0 & 0 & 0 & 0 & 0 & 0 & 0 & 0 & 0 & 0 & 0 & 0 & 0 & 0 & 0 & 0 & 0 & 0 & 0 & 0 & 0 & 0 & 0 & 0 & 0 & 0 & 0 & 0 & 0 & 0 & 0 & 0 & 0 & 0 & 0 & 0 & 0 & 0  \\\\\n",
       " 0 & 0 & 0 & 0 & 0 & 0 & 0 & 0 & 0 & 0 & 0 & 0 & 0 & 0 & 0 & 0 & 0 & 0 & 0 & 0 & 0 & 1 & 0 & 0 & 0 & 0 & 0 & 0 & 0 & 0 & 0 & 0 & 0 & 0 & 0 & 0 & 0 & 0 & 0 & 0 & 0 & 0 & 0 & 0 & 0 & 0 & 0 & 0 & 0 & 0 & 0 & 0 & 0 & 0 & 0 & 0 & 0 & 0 & 0 & 0 & 0 & 0 & 0 & 0  \\\\\n",
       " 0 & 0 & 0 & 0 & 0 & 0 & 0 & 0 & 0 & 0 & 0 & 0 & 0 & 0 & 0 & 0 & 0 & 0 & 0 & 0 & 0 & 0 & 1 & 0 & 0 & 0 & 0 & 0 & 0 & 0 & 0 & 0 & 0 & 0 & 0 & 0 & 0 & 0 & 0 & 0 & 0 & 0 & 0 & 0 & 0 & 0 & 0 & 0 & 0 & 0 & 0 & 0 & 0 & 0 & 0 & 0 & 0 & 0 & 0 & 0 & 0 & 0 & 0 & 0  \\\\\n",
       " 0 & 0 & 0 & 0 & 0 & 0 & 0 & 0 & 0 & 0 & 0 & 0 & 0 & 0 & 0 & 0 & 0 & 0 & 0 & 0 & 0 & 0 & 0 & 1 & 0 & 0 & 0 & 0 & 0 & 0 & 0 & 0 & 0 & 0 & 0 & 0 & 0 & 0 & 0 & 0 & 0 & 0 & 0 & 0 & 0 & 0 & 0 & 0 & 0 & 0 & 0 & 0 & 0 & 0 & 0 & 0 & 0 & 0 & 0 & 0 & 0 & 0 & 0 & 0  \\\\\n",
       " 0 & 0 & 0 & 0 & 0 & 0 & 0 & 0 & 0 & 0 & 0 & 0 & 0 & 0 & 0 & 0 & 0 & 0 & 0 & 0 & 0 & 0 & 0 & 0 & 1 & 0 & 0 & 0 & 0 & 0 & 0 & 0 & 0 & 0 & 0 & 0 & 0 & 0 & 0 & 0 & 0 & 0 & 0 & 0 & 0 & 0 & 0 & 0 & 0 & 0 & 0 & 0 & 0 & 0 & 0 & 0 & 0 & 0 & 0 & 0 & 0 & 0 & 0 & 0  \\\\\n",
       " 0 & 0 & 0 & 0 & 0 & 0 & 0 & 0 & 0 & 0 & 0 & 0 & 0 & 0 & 0 & 0 & 0 & 0 & 0 & 0 & 0 & 0 & 0 & 0 & 0 & 1 & 0 & 0 & 0 & 0 & 0 & 0 & 0 & 0 & 0 & 0 & 0 & 0 & 0 & 0 & 0 & 0 & 0 & 0 & 0 & 0 & 0 & 0 & 0 & 0 & 0 & 0 & 0 & 0 & 0 & 0 & 0 & 0 & 0 & 0 & 0 & 0 & 0 & 0  \\\\\n",
       " 0 & 0 & 0 & 0 & 0 & 0 & 0 & 0 & 0 & 0 & 0 & 0 & 0 & 0 & 0 & 0 & 0 & 0 & 0 & 0 & 0 & 0 & 0 & 0 & 0 & 0 & 1 & 0 & 0 & 0 & 0 & 0 & 0 & 0 & 0 & 0 & 0 & 0 & 0 & 0 & 0 & 0 & 0 & 0 & 0 & 0 & 0 & 0 & 0 & 0 & 0 & 0 & 0 & 0 & 0 & 0 & 0 & 0 & 0 & 0 & 0 & 0 & 0 & 0  \\\\\n",
       " 0 & 0 & 0 & 0 & 0 & 0 & 0 & 0 & 0 & 0 & 0 & 0 & 0 & 0 & 0 & 0 & 0 & 0 & 0 & 0 & 0 & 0 & 0 & 0 & 0 & 0 & 0 & 1 & 0 & 0 & 0 & 0 & 0 & 0 & 0 & 0 & 0 & 0 & 0 & 0 & 0 & 0 & 0 & 0 & 0 & 0 & 0 & 0 & 0 & 0 & 0 & 0 & 0 & 0 & 0 & 0 & 0 & 0 & 0 & 0 & 0 & 0 & 0 & 0  \\\\\n",
       " 0 & 0 & 0 & 0 & 0 & 0 & 0 & 0 & 0 & 0 & 0 & 0 & 0 & 0 & 0 & 0 & 0 & 0 & 0 & 0 & 0 & 0 & 0 & 0 & 0 & 0 & 0 & 0 & 1 & 0 & 0 & 0 & 0 & 0 & 0 & 0 & 0 & 0 & 0 & 0 & 0 & 0 & 0 & 0 & 0 & 0 & 0 & 0 & 0 & 0 & 0 & 0 & 0 & 0 & 0 & 0 & 0 & 0 & 0 & 0 & 0 & 0 & 0 & 0  \\\\\n",
       " 0 & 0 & 0 & 0 & 0 & 0 & 0 & 0 & 0 & 0 & 0 & 0 & 0 & 0 & 0 & 0 & 0 & 0 & 0 & 0 & 0 & 0 & 0 & 0 & 0 & 0 & 0 & 0 & 0 & 1 & 0 & 0 & 0 & 0 & 0 & 0 & 0 & 0 & 0 & 0 & 0 & 0 & 0 & 0 & 0 & 0 & 0 & 0 & 0 & 0 & 0 & 0 & 0 & 0 & 0 & 0 & 0 & 0 & 0 & 0 & 0 & 0 & 0 & 0  \\\\\n",
       " 0 & 0 & 0 & 0 & 0 & 0 & 0 & 0 & 0 & 0 & 0 & 0 & 0 & 0 & 0 & 0 & 0 & 0 & 0 & 0 & 0 & 0 & 0 & 0 & 0 & 0 & 0 & 0 & 0 & 0 & 0 & 1 & 0 & 0 & 0 & 0 & 0 & 0 & 0 & 0 & 0 & 0 & 0 & 0 & 0 & 0 & 0 & 0 & 0 & 0 & 0 & 0 & 0 & 0 & 0 & 0 & 0 & 0 & 0 & 0 & 0 & 0 & 0 & 0  \\\\\n",
       " 0 & 0 & 0 & 0 & 0 & 0 & 0 & 0 & 0 & 0 & 0 & 0 & 0 & 0 & 0 & 0 & 0 & 0 & 0 & 0 & 0 & 0 & 0 & 0 & 0 & 0 & 0 & 0 & 0 & 0 & 1 & 0 & 0 & 0 & 0 & 0 & 0 & 0 & 0 & 0 & 0 & 0 & 0 & 0 & 0 & 0 & 0 & 0 & 0 & 0 & 0 & 0 & 0 & 0 & 0 & 0 & 0 & 0 & 0 & 0 & 0 & 0 & 0 & 0  \\\\\n",
       " 0 & 0 & 0 & 0 & 0 & 0 & 0 & 0 & 0 & 0 & 0 & 0 & 0 & 0 & 0 & 0 & 0 & 0 & 0 & 0 & 0 & 0 & 0 & 0 & 0 & 0 & 0 & 0 & 0 & 0 & 0 & 0 & \\frac{1}{2} + \\frac{i}{2} & \\frac{1}{2} - \\frac{i}{2} & 0 & 0 & 0 & 0 & 0 & 0 & 0 & 0 & 0 & 0 & 0 & 0 & 0 & 0 & 0 & 0 & 0 & 0 & 0 & 0 & 0 & 0 & 0 & 0 & 0 & 0 & 0 & 0 & 0 & 0  \\\\\n",
       " 0 & 0 & 0 & 0 & 0 & 0 & 0 & 0 & 0 & 0 & 0 & 0 & 0 & 0 & 0 & 0 & 0 & 0 & 0 & 0 & 0 & 0 & 0 & 0 & 0 & 0 & 0 & 0 & 0 & 0 & 0 & 0 & \\frac{1}{2} - \\frac{i}{2} & \\frac{1}{2} + \\frac{i}{2} & 0 & 0 & 0 & 0 & 0 & 0 & 0 & 0 & 0 & 0 & 0 & 0 & 0 & 0 & 0 & 0 & 0 & 0 & 0 & 0 & 0 & 0 & 0 & 0 & 0 & 0 & 0 & 0 & 0 & 0  \\\\\n",
       " 0 & 0 & 0 & 0 & 0 & 0 & 0 & 0 & 0 & 0 & 0 & 0 & 0 & 0 & 0 & 0 & 0 & 0 & 0 & 0 & 0 & 0 & 0 & 0 & 0 & 0 & 0 & 0 & 0 & 0 & 0 & 0 & 0 & 0 & \\frac{1}{2} + \\frac{i}{2} & \\frac{1}{2} - \\frac{i}{2} & 0 & 0 & 0 & 0 & 0 & 0 & 0 & 0 & 0 & 0 & 0 & 0 & 0 & 0 & 0 & 0 & 0 & 0 & 0 & 0 & 0 & 0 & 0 & 0 & 0 & 0 & 0 & 0  \\\\\n",
       " 0 & 0 & 0 & 0 & 0 & 0 & 0 & 0 & 0 & 0 & 0 & 0 & 0 & 0 & 0 & 0 & 0 & 0 & 0 & 0 & 0 & 0 & 0 & 0 & 0 & 0 & 0 & 0 & 0 & 0 & 0 & 0 & 0 & 0 & \\frac{1}{2} - \\frac{i}{2} & \\frac{1}{2} + \\frac{i}{2} & 0 & 0 & 0 & 0 & 0 & 0 & 0 & 0 & 0 & 0 & 0 & 0 & 0 & 0 & 0 & 0 & 0 & 0 & 0 & 0 & 0 & 0 & 0 & 0 & 0 & 0 & 0 & 0  \\\\\n",
       " 0 & 0 & 0 & 0 & 0 & 0 & 0 & 0 & 0 & 0 & 0 & 0 & 0 & 0 & 0 & 0 & 0 & 0 & 0 & 0 & 0 & 0 & 0 & 0 & 0 & 0 & 0 & 0 & 0 & 0 & 0 & 0 & 0 & 0 & 0 & 0 & \\frac{1}{2} + \\frac{i}{2} & \\frac{1}{2} - \\frac{i}{2} & 0 & 0 & 0 & 0 & 0 & 0 & 0 & 0 & 0 & 0 & 0 & 0 & 0 & 0 & 0 & 0 & 0 & 0 & 0 & 0 & 0 & 0 & 0 & 0 & 0 & 0  \\\\\n",
       " 0 & 0 & 0 & 0 & 0 & 0 & 0 & 0 & 0 & 0 & 0 & 0 & 0 & 0 & 0 & 0 & 0 & 0 & 0 & 0 & 0 & 0 & 0 & 0 & 0 & 0 & 0 & 0 & 0 & 0 & 0 & 0 & 0 & 0 & 0 & 0 & \\frac{1}{2} - \\frac{i}{2} & \\frac{1}{2} + \\frac{i}{2} & 0 & 0 & 0 & 0 & 0 & 0 & 0 & 0 & 0 & 0 & 0 & 0 & 0 & 0 & 0 & 0 & 0 & 0 & 0 & 0 & 0 & 0 & 0 & 0 & 0 & 0  \\\\\n",
       " 0 & 0 & 0 & 0 & 0 & 0 & 0 & 0 & 0 & 0 & 0 & 0 & 0 & 0 & 0 & 0 & 0 & 0 & 0 & 0 & 0 & 0 & 0 & 0 & 0 & 0 & 0 & 0 & 0 & 0 & 0 & 0 & 0 & 0 & 0 & 0 & 0 & 0 & \\frac{1}{2} + \\frac{i}{2} & \\frac{1}{2} - \\frac{i}{2} & 0 & 0 & 0 & 0 & 0 & 0 & 0 & 0 & 0 & 0 & 0 & 0 & 0 & 0 & 0 & 0 & 0 & 0 & 0 & 0 & 0 & 0 & 0 & 0  \\\\\n",
       " 0 & 0 & 0 & 0 & 0 & 0 & 0 & 0 & 0 & 0 & 0 & 0 & 0 & 0 & 0 & 0 & 0 & 0 & 0 & 0 & 0 & 0 & 0 & 0 & 0 & 0 & 0 & 0 & 0 & 0 & 0 & 0 & 0 & 0 & 0 & 0 & 0 & 0 & \\frac{1}{2} - \\frac{i}{2} & \\frac{1}{2} + \\frac{i}{2} & 0 & 0 & 0 & 0 & 0 & 0 & 0 & 0 & 0 & 0 & 0 & 0 & 0 & 0 & 0 & 0 & 0 & 0 & 0 & 0 & 0 & 0 & 0 & 0  \\\\\n",
       " 0 & 0 & 0 & 0 & 0 & 0 & 0 & 0 & 0 & 0 & 0 & 0 & 0 & 0 & 0 & 0 & 0 & 0 & 0 & 0 & 0 & 0 & 0 & 0 & 0 & 0 & 0 & 0 & 0 & 0 & 0 & 0 & 0 & 0 & 0 & 0 & 0 & 0 & 0 & 0 & \\frac{1}{2} + \\frac{i}{2} & \\frac{1}{2} - \\frac{i}{2} & 0 & 0 & 0 & 0 & 0 & 0 & 0 & 0 & 0 & 0 & 0 & 0 & 0 & 0 & 0 & 0 & 0 & 0 & 0 & 0 & 0 & 0  \\\\\n",
       " 0 & 0 & 0 & 0 & 0 & 0 & 0 & 0 & 0 & 0 & 0 & 0 & 0 & 0 & 0 & 0 & 0 & 0 & 0 & 0 & 0 & 0 & 0 & 0 & 0 & 0 & 0 & 0 & 0 & 0 & 0 & 0 & 0 & 0 & 0 & 0 & 0 & 0 & 0 & 0 & \\frac{1}{2} - \\frac{i}{2} & \\frac{1}{2} + \\frac{i}{2} & 0 & 0 & 0 & 0 & 0 & 0 & 0 & 0 & 0 & 0 & 0 & 0 & 0 & 0 & 0 & 0 & 0 & 0 & 0 & 0 & 0 & 0  \\\\\n",
       " 0 & 0 & 0 & 0 & 0 & 0 & 0 & 0 & 0 & 0 & 0 & 0 & 0 & 0 & 0 & 0 & 0 & 0 & 0 & 0 & 0 & 0 & 0 & 0 & 0 & 0 & 0 & 0 & 0 & 0 & 0 & 0 & 0 & 0 & 0 & 0 & 0 & 0 & 0 & 0 & 0 & 0 & \\frac{1}{2} + \\frac{i}{2} & \\frac{1}{2} - \\frac{i}{2} & 0 & 0 & 0 & 0 & 0 & 0 & 0 & 0 & 0 & 0 & 0 & 0 & 0 & 0 & 0 & 0 & 0 & 0 & 0 & 0  \\\\\n",
       " 0 & 0 & 0 & 0 & 0 & 0 & 0 & 0 & 0 & 0 & 0 & 0 & 0 & 0 & 0 & 0 & 0 & 0 & 0 & 0 & 0 & 0 & 0 & 0 & 0 & 0 & 0 & 0 & 0 & 0 & 0 & 0 & 0 & 0 & 0 & 0 & 0 & 0 & 0 & 0 & 0 & 0 & \\frac{1}{2} - \\frac{i}{2} & \\frac{1}{2} + \\frac{i}{2} & 0 & 0 & 0 & 0 & 0 & 0 & 0 & 0 & 0 & 0 & 0 & 0 & 0 & 0 & 0 & 0 & 0 & 0 & 0 & 0  \\\\\n",
       " 0 & 0 & 0 & 0 & 0 & 0 & 0 & 0 & 0 & 0 & 0 & 0 & 0 & 0 & 0 & 0 & 0 & 0 & 0 & 0 & 0 & 0 & 0 & 0 & 0 & 0 & 0 & 0 & 0 & 0 & 0 & 0 & 0 & 0 & 0 & 0 & 0 & 0 & 0 & 0 & 0 & 0 & 0 & 0 & \\frac{1}{2} + \\frac{i}{2} & \\frac{1}{2} - \\frac{i}{2} & 0 & 0 & 0 & 0 & 0 & 0 & 0 & 0 & 0 & 0 & 0 & 0 & 0 & 0 & 0 & 0 & 0 & 0  \\\\\n",
       " 0 & 0 & 0 & 0 & 0 & 0 & 0 & 0 & 0 & 0 & 0 & 0 & 0 & 0 & 0 & 0 & 0 & 0 & 0 & 0 & 0 & 0 & 0 & 0 & 0 & 0 & 0 & 0 & 0 & 0 & 0 & 0 & 0 & 0 & 0 & 0 & 0 & 0 & 0 & 0 & 0 & 0 & 0 & 0 & \\frac{1}{2} - \\frac{i}{2} & \\frac{1}{2} + \\frac{i}{2} & 0 & 0 & 0 & 0 & 0 & 0 & 0 & 0 & 0 & 0 & 0 & 0 & 0 & 0 & 0 & 0 & 0 & 0  \\\\\n",
       " 0 & 0 & 0 & 0 & 0 & 0 & 0 & 0 & 0 & 0 & 0 & 0 & 0 & 0 & 0 & 0 & 0 & 0 & 0 & 0 & 0 & 0 & 0 & 0 & 0 & 0 & 0 & 0 & 0 & 0 & 0 & 0 & 0 & 0 & 0 & 0 & 0 & 0 & 0 & 0 & 0 & 0 & 0 & 0 & 0 & 0 & \\frac{1}{2} + \\frac{i}{2} & \\frac{1}{2} - \\frac{i}{2} & 0 & 0 & 0 & 0 & 0 & 0 & 0 & 0 & 0 & 0 & 0 & 0 & 0 & 0 & 0 & 0  \\\\\n",
       " 0 & 0 & 0 & 0 & 0 & 0 & 0 & 0 & 0 & 0 & 0 & 0 & 0 & 0 & 0 & 0 & 0 & 0 & 0 & 0 & 0 & 0 & 0 & 0 & 0 & 0 & 0 & 0 & 0 & 0 & 0 & 0 & 0 & 0 & 0 & 0 & 0 & 0 & 0 & 0 & 0 & 0 & 0 & 0 & 0 & 0 & \\frac{1}{2} - \\frac{i}{2} & \\frac{1}{2} + \\frac{i}{2} & 0 & 0 & 0 & 0 & 0 & 0 & 0 & 0 & 0 & 0 & 0 & 0 & 0 & 0 & 0 & 0  \\\\\n",
       " 0 & 0 & 0 & 0 & 0 & 0 & 0 & 0 & 0 & 0 & 0 & 0 & 0 & 0 & 0 & 0 & 0 & 0 & 0 & 0 & 0 & 0 & 0 & 0 & 0 & 0 & 0 & 0 & 0 & 0 & 0 & 0 & 0 & 0 & 0 & 0 & 0 & 0 & 0 & 0 & 0 & 0 & 0 & 0 & 0 & 0 & 0 & 0 & \\frac{1}{2} + \\frac{i}{2} & \\frac{1}{2} - \\frac{i}{2} & 0 & 0 & 0 & 0 & 0 & 0 & 0 & 0 & 0 & 0 & 0 & 0 & 0 & 0  \\\\\n",
       " 0 & 0 & 0 & 0 & 0 & 0 & 0 & 0 & 0 & 0 & 0 & 0 & 0 & 0 & 0 & 0 & 0 & 0 & 0 & 0 & 0 & 0 & 0 & 0 & 0 & 0 & 0 & 0 & 0 & 0 & 0 & 0 & 0 & 0 & 0 & 0 & 0 & 0 & 0 & 0 & 0 & 0 & 0 & 0 & 0 & 0 & 0 & 0 & \\frac{1}{2} - \\frac{i}{2} & \\frac{1}{2} + \\frac{i}{2} & 0 & 0 & 0 & 0 & 0 & 0 & 0 & 0 & 0 & 0 & 0 & 0 & 0 & 0  \\\\\n",
       " 0 & 0 & 0 & 0 & 0 & 0 & 0 & 0 & 0 & 0 & 0 & 0 & 0 & 0 & 0 & 0 & 0 & 0 & 0 & 0 & 0 & 0 & 0 & 0 & 0 & 0 & 0 & 0 & 0 & 0 & 0 & 0 & 0 & 0 & 0 & 0 & 0 & 0 & 0 & 0 & 0 & 0 & 0 & 0 & 0 & 0 & 0 & 0 & 0 & 0 & \\frac{1}{2} + \\frac{i}{2} & \\frac{1}{2} - \\frac{i}{2} & 0 & 0 & 0 & 0 & 0 & 0 & 0 & 0 & 0 & 0 & 0 & 0  \\\\\n",
       " 0 & 0 & 0 & 0 & 0 & 0 & 0 & 0 & 0 & 0 & 0 & 0 & 0 & 0 & 0 & 0 & 0 & 0 & 0 & 0 & 0 & 0 & 0 & 0 & 0 & 0 & 0 & 0 & 0 & 0 & 0 & 0 & 0 & 0 & 0 & 0 & 0 & 0 & 0 & 0 & 0 & 0 & 0 & 0 & 0 & 0 & 0 & 0 & 0 & 0 & \\frac{1}{2} - \\frac{i}{2} & \\frac{1}{2} + \\frac{i}{2} & 0 & 0 & 0 & 0 & 0 & 0 & 0 & 0 & 0 & 0 & 0 & 0  \\\\\n",
       " 0 & 0 & 0 & 0 & 0 & 0 & 0 & 0 & 0 & 0 & 0 & 0 & 0 & 0 & 0 & 0 & 0 & 0 & 0 & 0 & 0 & 0 & 0 & 0 & 0 & 0 & 0 & 0 & 0 & 0 & 0 & 0 & 0 & 0 & 0 & 0 & 0 & 0 & 0 & 0 & 0 & 0 & 0 & 0 & 0 & 0 & 0 & 0 & 0 & 0 & 0 & 0 & \\frac{1}{2} + \\frac{i}{2} & \\frac{1}{2} - \\frac{i}{2} & 0 & 0 & 0 & 0 & 0 & 0 & 0 & 0 & 0 & 0  \\\\\n",
       " 0 & 0 & 0 & 0 & 0 & 0 & 0 & 0 & 0 & 0 & 0 & 0 & 0 & 0 & 0 & 0 & 0 & 0 & 0 & 0 & 0 & 0 & 0 & 0 & 0 & 0 & 0 & 0 & 0 & 0 & 0 & 0 & 0 & 0 & 0 & 0 & 0 & 0 & 0 & 0 & 0 & 0 & 0 & 0 & 0 & 0 & 0 & 0 & 0 & 0 & 0 & 0 & \\frac{1}{2} - \\frac{i}{2} & \\frac{1}{2} + \\frac{i}{2} & 0 & 0 & 0 & 0 & 0 & 0 & 0 & 0 & 0 & 0  \\\\\n",
       " 0 & 0 & 0 & 0 & 0 & 0 & 0 & 0 & 0 & 0 & 0 & 0 & 0 & 0 & 0 & 0 & 0 & 0 & 0 & 0 & 0 & 0 & 0 & 0 & 0 & 0 & 0 & 0 & 0 & 0 & 0 & 0 & 0 & 0 & 0 & 0 & 0 & 0 & 0 & 0 & 0 & 0 & 0 & 0 & 0 & 0 & 0 & 0 & 0 & 0 & 0 & 0 & 0 & 0 & \\frac{1}{2} + \\frac{i}{2} & \\frac{1}{2} - \\frac{i}{2} & 0 & 0 & 0 & 0 & 0 & 0 & 0 & 0  \\\\\n",
       " 0 & 0 & 0 & 0 & 0 & 0 & 0 & 0 & 0 & 0 & 0 & 0 & 0 & 0 & 0 & 0 & 0 & 0 & 0 & 0 & 0 & 0 & 0 & 0 & 0 & 0 & 0 & 0 & 0 & 0 & 0 & 0 & 0 & 0 & 0 & 0 & 0 & 0 & 0 & 0 & 0 & 0 & 0 & 0 & 0 & 0 & 0 & 0 & 0 & 0 & 0 & 0 & 0 & 0 & \\frac{1}{2} - \\frac{i}{2} & \\frac{1}{2} + \\frac{i}{2} & 0 & 0 & 0 & 0 & 0 & 0 & 0 & 0  \\\\\n",
       " 0 & 0 & 0 & 0 & 0 & 0 & 0 & 0 & 0 & 0 & 0 & 0 & 0 & 0 & 0 & 0 & 0 & 0 & 0 & 0 & 0 & 0 & 0 & 0 & 0 & 0 & 0 & 0 & 0 & 0 & 0 & 0 & 0 & 0 & 0 & 0 & 0 & 0 & 0 & 0 & 0 & 0 & 0 & 0 & 0 & 0 & 0 & 0 & 0 & 0 & 0 & 0 & 0 & 0 & 0 & 0 & \\frac{1}{2} + \\frac{i}{2} & \\frac{1}{2} - \\frac{i}{2} & 0 & 0 & 0 & 0 & 0 & 0  \\\\\n",
       " 0 & 0 & 0 & 0 & 0 & 0 & 0 & 0 & 0 & 0 & 0 & 0 & 0 & 0 & 0 & 0 & 0 & 0 & 0 & 0 & 0 & 0 & 0 & 0 & 0 & 0 & 0 & 0 & 0 & 0 & 0 & 0 & 0 & 0 & 0 & 0 & 0 & 0 & 0 & 0 & 0 & 0 & 0 & 0 & 0 & 0 & 0 & 0 & 0 & 0 & 0 & 0 & 0 & 0 & 0 & 0 & \\frac{1}{2} - \\frac{i}{2} & \\frac{1}{2} + \\frac{i}{2} & 0 & 0 & 0 & 0 & 0 & 0  \\\\\n",
       " 0 & 0 & 0 & 0 & 0 & 0 & 0 & 0 & 0 & 0 & 0 & 0 & 0 & 0 & 0 & 0 & 0 & 0 & 0 & 0 & 0 & 0 & 0 & 0 & 0 & 0 & 0 & 0 & 0 & 0 & 0 & 0 & 0 & 0 & 0 & 0 & 0 & 0 & 0 & 0 & 0 & 0 & 0 & 0 & 0 & 0 & 0 & 0 & 0 & 0 & 0 & 0 & 0 & 0 & 0 & 0 & 0 & 0 & \\frac{1}{2} + \\frac{i}{2} & \\frac{1}{2} - \\frac{i}{2} & 0 & 0 & 0 & 0  \\\\\n",
       " 0 & 0 & 0 & 0 & 0 & 0 & 0 & 0 & 0 & 0 & 0 & 0 & 0 & 0 & 0 & 0 & 0 & 0 & 0 & 0 & 0 & 0 & 0 & 0 & 0 & 0 & 0 & 0 & 0 & 0 & 0 & 0 & 0 & 0 & 0 & 0 & 0 & 0 & 0 & 0 & 0 & 0 & 0 & 0 & 0 & 0 & 0 & 0 & 0 & 0 & 0 & 0 & 0 & 0 & 0 & 0 & 0 & 0 & \\frac{1}{2} - \\frac{i}{2} & \\frac{1}{2} + \\frac{i}{2} & 0 & 0 & 0 & 0  \\\\\n",
       " 0 & 0 & 0 & 0 & 0 & 0 & 0 & 0 & 0 & 0 & 0 & 0 & 0 & 0 & 0 & 0 & 0 & 0 & 0 & 0 & 0 & 0 & 0 & 0 & 0 & 0 & 0 & 0 & 0 & 0 & 0 & 0 & 0 & 0 & 0 & 0 & 0 & 0 & 0 & 0 & 0 & 0 & 0 & 0 & 0 & 0 & 0 & 0 & 0 & 0 & 0 & 0 & 0 & 0 & 0 & 0 & 0 & 0 & 0 & 0 & \\frac{1}{2} - \\frac{i}{2} & \\frac{1}{2} + \\frac{i}{2} & 0 & 0  \\\\\n",
       " 0 & 0 & 0 & 0 & 0 & 0 & 0 & 0 & 0 & 0 & 0 & 0 & 0 & 0 & 0 & 0 & 0 & 0 & 0 & 0 & 0 & 0 & 0 & 0 & 0 & 0 & 0 & 0 & 0 & 0 & 0 & 0 & 0 & 0 & 0 & 0 & 0 & 0 & 0 & 0 & 0 & 0 & 0 & 0 & 0 & 0 & 0 & 0 & 0 & 0 & 0 & 0 & 0 & 0 & 0 & 0 & 0 & 0 & 0 & 0 & \\frac{1}{2} + \\frac{i}{2} & \\frac{1}{2} - \\frac{i}{2} & 0 & 0  \\\\\n",
       " 0 & 0 & 0 & 0 & 0 & 0 & 0 & 0 & 0 & 0 & 0 & 0 & 0 & 0 & 0 & 0 & 0 & 0 & 0 & 0 & 0 & 0 & 0 & 0 & 0 & 0 & 0 & 0 & 0 & 0 & 0 & 0 & 0 & 0 & 0 & 0 & 0 & 0 & 0 & 0 & 0 & 0 & 0 & 0 & 0 & 0 & 0 & 0 & 0 & 0 & 0 & 0 & 0 & 0 & 0 & 0 & 0 & 0 & 0 & 0 & 0 & 0 & \\frac{1}{2} + \\frac{i}{2} & \\frac{1}{2} - \\frac{i}{2}  \\\\\n",
       " 0 & 0 & 0 & 0 & 0 & 0 & 0 & 0 & 0 & 0 & 0 & 0 & 0 & 0 & 0 & 0 & 0 & 0 & 0 & 0 & 0 & 0 & 0 & 0 & 0 & 0 & 0 & 0 & 0 & 0 & 0 & 0 & 0 & 0 & 0 & 0 & 0 & 0 & 0 & 0 & 0 & 0 & 0 & 0 & 0 & 0 & 0 & 0 & 0 & 0 & 0 & 0 & 0 & 0 & 0 & 0 & 0 & 0 & 0 & 0 & 0 & 0 & \\frac{1}{2} - \\frac{i}{2} & \\frac{1}{2} + \\frac{i}{2}  \\\\\n",
       " \\end{bmatrix}\n",
       "$$"
      ],
      "text/plain": [
       "<IPython.core.display.Latex object>"
      ]
     },
     "execution_count": 18,
     "metadata": {},
     "output_type": "execute_result"
    }
   ],
   "source": [
    "job = backend.run(transpile(qc, backend))\n",
    "array_to_latex(job.result().get_unitary(qc, decimals=3), max_size=64)\n"
   ]
  },
  {
   "cell_type": "markdown",
   "id": "f9e90e95",
   "metadata": {},
   "source": [
    "We see that this matrix differs from a CNOT, that is due to it including the Ancilla qubit in the simulation. In use it shall act as cnx gate for the non ancilla qubits provided or maybe I have made a mistake somewhere. I am looking for methods that shall allow me to write this unitary without incling the ancilla. Any insight shall be appriciated"
   ]
  },
  {
   "cell_type": "markdown",
   "id": "f263a6f9",
   "metadata": {},
   "source": [
    "Special thanks to people who made this work possible aka the contributors to this paper <a href=\"https://arxiv.org/pdf/quant-ph/9503016.pdf\">Elementary gates for quantum computation</a>  "
   ]
  },
  {
   "cell_type": "markdown",
   "id": "34676663",
   "metadata": {},
   "source": [
    "Thankyou QOSF for the opportunity to work on this mentorship program"
   ]
  }
 ],
 "metadata": {
  "kernelspec": {
   "display_name": "Python 3 (ipykernel)",
   "language": "python",
   "name": "python3"
  },
  "language_info": {
   "codemirror_mode": {
    "name": "ipython",
    "version": 3
   },
   "file_extension": ".py",
   "mimetype": "text/x-python",
   "name": "python",
   "nbconvert_exporter": "python",
   "pygments_lexer": "ipython3",
   "version": "3.10.9"
  }
 },
 "nbformat": 4,
 "nbformat_minor": 5
}
